{
 "cells": [
  {
   "cell_type": "code",
   "execution_count": 274,
   "metadata": {},
   "outputs": [],
   "source": [
    "import numpy as np"
   ]
  },
  {
   "cell_type": "code",
   "execution_count": 288,
   "metadata": {},
   "outputs": [],
   "source": [
    "def to_X_Y_Z_fixed_angles(rot_matrix):\n",
    "    rot_matrix = np.asarray(rot_matrix)\n",
    "\n",
    "    r11 = rot_matrix[0, 0]\n",
    "    r21 = rot_matrix[1, 0]\n",
    "    r32 = rot_matrix[2, 1]\n",
    "    r33 = rot_matrix[2, 2]\n",
    "    r31 = rot_matrix[2, 0]\n",
    "    r22 = rot_matrix[1, 1]\n",
    "    r12 = rot_matrix[0, 1]\n",
    "\n",
    "    Beta = (np.arctan2(-r31, np.sqrt(r11 ** 2 + r21 ** 2)))\n",
    "    if Beta == 90.0:\n",
    "        Alpha = 0\n",
    "        Gamma = np.degrees(np.arctan2(r12, r22))\n",
    "    elif Beta == -90.0:\n",
    "        Alpha = 0\n",
    "        Gamma = np.degrees(-np.arctan2(r12, r22))\n",
    "    else:\n",
    "        Alpha = (np.arctan2(r21 / np.cos(Beta), r11 / np.cos(Beta)))\n",
    "        Gamma = (np.arctan2(r32 / np.cos(Beta), r33 / np.cos(Beta)))\n",
    "\n",
    "    return f\"Beta {Beta}, Alpha {Alpha}, Gamma {Gamma}\"\n"
   ]
  },
  {
   "cell_type": "code",
   "execution_count": 289,
   "metadata": {},
   "outputs": [
    {
     "name": "stdout",
     "output_type": "stream",
     "text": [
      "Beta 0.5235792853498549, Alpha 0.7853981633974483, Gamma 0.9553120973045743\n"
     ]
    }
   ],
   "source": [
    "a = [[0.6124, -0.3536, 0.7071],\n",
    " [0.6124, 0.6124, -0.5],\n",
    " [ -0.5, 0.7071, 0.5]]\n",
    "\n",
    "\n",
    "print(to_X_Y_Z_fixed_angles(a))\n",
    " \n"
   ]
  },
  {
   "cell_type": "code",
   "execution_count": 285,
   "metadata": {},
   "outputs": [],
   "source": [
    "def fixed_angles_to_rot_matrix(Beta, Alpha, Gamma):\n",
    "\n",
    "    \n",
    "    rot_mat_x = np.array(\n",
    "        [\n",
    "            [1, 0, 0],\n",
    "            [0, np.cos(Gamma), -np.sin(Gamma)],\n",
    "            [0, np.sin(Gamma), np.cos(Gamma)],\n",
    "        ]\n",
    "    )\n",
    "    \n",
    "    rot_mat_y = np.array(\n",
    "        [\n",
    "            [np.cos(Beta), 0, np.sin(Beta)], \n",
    "            [0, 1, 0], \n",
    "            [-np.sin(Beta), 0, np.cos(Beta)]]\n",
    "    )\n",
    "    rot_mat_z = np.array(\n",
    "        [\n",
    "            [np.cos(Alpha), -np.sin(Alpha), 0],\n",
    "            [np.sin(Alpha), np.cos(Alpha), 0],\n",
    "            [0, 0, 1],\n",
    "        ]\n",
    "    )\n",
    "    rot_matrix = np.dot(np.dot(rot_mat_z, rot_mat_y), rot_mat_x )\n",
    "\n",
    "    return rot_matrix"
   ]
  },
  {
   "cell_type": "code",
   "execution_count": 279,
   "metadata": {},
   "outputs": [],
   "source": [
    "def to_Z_Y_Z_euler_angles(rot_matrix):\n",
    "    rot_matrix = np.asarray(rot_matrix)\n",
    "    r31 = rot_matrix[2, 0]\n",
    "    r32 = rot_matrix[2, 1]\n",
    "    r33 = rot_matrix[2, 2]\n",
    "    r23 = rot_matrix[1, 2]\n",
    "    r13 = rot_matrix[0, 2]\n",
    "    r11 = rot_matrix[0, 0]\n",
    "    r12 = rot_matrix[0, 1]\n",
    "\n",
    "    Beta = (np.arctan2(np.sqrt(r31 ** 2 + r32 ** 2), r33))\n",
    "    if Beta == 0:\n",
    "        Alpha = 0\n",
    "        Gamma = np.arctan2(-r12, r11)\n",
    "    elif Beta == 180:\n",
    "        Alpha = 0\n",
    "        Gamma = np.arctan2(r12, -r11)\n",
    "    else:\n",
    "        Alpha = np.arctan2(r23 / np.sin(Beta), r13 / np.sin(Beta))\n",
    "        Gamma = np.arctan2(r32 / np.sin(Beta), -r31 / np.sin(Beta))\n",
    "    \n",
    "\n",
    "    return f\"Beta {Beta}, Alpha {(Alpha)}, Gamma {(Gamma)}\""
   ]
  },
  {
   "cell_type": "code",
   "execution_count": 296,
   "metadata": {},
   "outputs": [],
   "source": [
    "def euler_to_rotMatrix(Beta, Alpha, Gamma):\n",
    "\n",
    "    rot_mat_x = np.array(\n",
    "        [\n",
    "            [np.cos(Alpha), -np.sin(Alpha), 0],\n",
    "            [np.sin(Alpha), np.cos(Alpha), 0],\n",
    "            [0, 0, 1],\n",
    "        ]\n",
    "    )\n",
    "    \n",
    "    rot_mat_y = np.array(\n",
    "        [\n",
    "            [np.cos(Beta), 0, np.sin(Beta)], \n",
    "            [0, 1, 0], \n",
    "            [-np.sin(Beta), 0, np.cos(Beta)]]\n",
    "    )\n",
    "    rot_mat_z = np.array(\n",
    "         [\n",
    "            [np.cos(Gamma), -np.sin(Gamma), 0],\n",
    "            [np.sin(Gamma), np.cos(Gamma), 0],\n",
    "            [0, 0, 1],\n",
    "        ]\n",
    "    )\n",
    "    rot_matrix = np.dot(np.dot(rot_mat_z, rot_mat_y), rot_mat_x )\n",
    "   \n",
    "\n",
    "    return rot_matrix"
   ]
  },
  {
   "cell_type": "code",
   "execution_count": 256,
   "metadata": {},
   "outputs": [],
   "source": [
    "def to_euler_parameters(rot_matrix):\n",
    "    rot_matrix = np.asarray(rot_matrix)\n",
    "    r31 = rot_matrix[2, 0]\n",
    "    r13 = rot_matrix[0, 2]\n",
    "    r23 = rot_matrix[1, 2]\n",
    "    r32 = rot_matrix[2, 1]\n",
    "    r21 = rot_matrix[1, 0]\n",
    "    r12 = rot_matrix[0, 1]\n",
    "    r11 = rot_matrix[0, 0]\n",
    "    r22 = rot_matrix[1, 1]\n",
    "    r33 = rot_matrix[2, 2]\n",
    "    \n",
    "    E4 = 1 / 2 * (np.sqrt(1 + r11 + r22 + r33))\n",
    "    E1 = (r32 - r23) / 4 * E4\n",
    "    E2 = (r13 - r31) / 4 * E4\n",
    "    E3 = (r21 - r12) / 4 * E4\n",
    "\n",
    "    return f\"parameter-1 {E1}, parameter-2 {E2}, parameter-3 {E3}, parameter-4 {E4}\"\n"
   ]
  },
  {
   "cell_type": "code",
   "execution_count": 257,
   "metadata": {},
   "outputs": [],
   "source": [
    "def euler_to_rotMatrix(E1, E2, E3, E4):\n",
    "    rot_mat_x = [\n",
    "          1 - 2 * E2 ** 2 - 2 * E3**2,\n",
    "          2 * (E1 * E2 + E3 * E4), \n",
    "          2 * (E1 * E3 - E2 * E4)\n",
    "          ]\n",
    "    \n",
    "    rot_mat_y = [\n",
    "          2 * (E2 * E2 - E3 * E4), \n",
    "          1 - 2 * E1 ** 2 - 2 *E3 ** 2,\n",
    "          2 * (E2 * E3 + E1 * E4)\n",
    "          ]\n",
    "    \n",
    "    rot_mat_z = [\n",
    "         2 * (E2 * E3 + E2 * E4), \n",
    "         2 * (E2 * E3 - E1 * E4), \n",
    "         1 - 2 * E1 ** 2 - 2 * E2 ** 2\n",
    "         ]\n",
    "\n",
    "    rot_matrix = np.stack([rot_mat_x, rot_mat_y, rot_mat_z])\n",
    "\n",
    "    return rot_matrix"
   ]
  }
 ],
 "metadata": {
  "kernelspec": {
   "display_name": "Python 3",
   "language": "python",
   "name": "python3"
  },
  "language_info": {
   "codemirror_mode": {
    "name": "ipython",
    "version": 3
   },
   "file_extension": ".py",
   "mimetype": "text/x-python",
   "name": "python",
   "nbconvert_exporter": "python",
   "pygments_lexer": "ipython3",
   "version": "3.10.2"
  }
 },
 "nbformat": 4,
 "nbformat_minor": 2
}
